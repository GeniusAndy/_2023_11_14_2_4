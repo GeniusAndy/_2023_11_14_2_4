{
 "cells": [
  {
   "cell_type": "code",
   "execution_count": 3,
   "metadata": {},
   "outputs": [],
   "source": [
    "stu1 = {\n",
    "    '姓名':'陳怡怜',\n",
    "    '國文':89,\n",
    "    '英文':92,\n",
    "    '數學':83,\n",
    "    '地理':91,\n",
    "    '歷史':65,\n",
    "    }\n",
    "stu2 = {\n",
    "    '姓名':'馮芳如',\n",
    "    '國文':92,\n",
    "    '英文':75,\n",
    "    '數學':92,\n",
    "    '地理':89,\n",
    "    '歷史':77,\n",
    "    }"
   ]
  },
  {
   "cell_type": "code",
   "execution_count": 4,
   "metadata": {},
   "outputs": [
    {
     "data": {
      "text/plain": [
       "[{'姓名': '陳怡怜', '國文': 89, '英文': 92, '數學': 83, '地理': 91, '歷史': 65},\n",
       " {'姓名': '馮芳如', '國文': 92, '英文': 75, '數學': 92, '地理': 89, '歷史': 77}]"
      ]
     },
     "execution_count": 4,
     "metadata": {},
     "output_type": "execute_result"
    }
   ],
   "source": [
    "students = [stu1,stu2]\n",
    "students"
   ]
  },
  {
   "cell_type": "code",
   "execution_count": 27,
   "metadata": {},
   "outputs": [
    {
     "data": {
      "text/plain": [
       "[{'姓名': '楊韋廷', '國文': 51, '英文': 53, '數學': 68, '地理': 52, '歷史': 94},\n",
       " {'姓名': '馮芳如', '國文': 62, '英文': 74, '數學': 69, '地理': 69, '歷史': 48},\n",
       " {'姓名': '李美洋', '國文': 59, '英文': 72, '數學': 83, '地理': 58, '歷史': 73},\n",
       " {'姓名': '黃志福', '國文': 54, '英文': 88, '數學': 51, '地理': 51, '歷史': 88},\n",
       " {'姓名': '林建宏', '國文': 95, '英文': 96, '數學': 78, '地理': 88, '歷史': 65}]"
      ]
     },
     "execution_count": 27,
     "metadata": {},
     "output_type": "execute_result"
    }
   ],
   "source": [
    "from random import randint,choices\n",
    "\n",
    "def getStudents(nums:int) -> list[dict]:  \n",
    "    students:list[dict] = []\n",
    "    with open('names.txt',mode='r',encoding='utf-8') as file:\n",
    "        names:str = file.read()\n",
    "    nameList:list[str] = names.split('\\n')\n",
    "    names:list[str] = choices(nameList,k=nums)\n",
    "\n",
    "    for i in range(nums):\n",
    "        stu = {\n",
    "        '姓名':names[i],\n",
    "        '國文':randint(45,100),\n",
    "        '英文':randint(45,100),\n",
    "        '數學':randint(45,100),\n",
    "        '地理':randint(45,100),\n",
    "        '歷史':randint(45,100),\n",
    "        }\n",
    "        students.append(stu)\n",
    "        \n",
    "    return students\n",
    "\n",
    "students = getStudents(5)\n",
    "students"
   ]
  },
  {
   "cell_type": "code",
   "execution_count": 28,
   "metadata": {},
   "outputs": [
    {
     "name": "stdout",
     "output_type": "stream",
     "text": [
      "請輸入學生的人數(1~50):10\n"
     ]
    },
    {
     "data": {
      "text/plain": [
       "[{'姓名': '陳文賢', '國文': 67, '英文': 92, '數學': 60, '地理': 89, '歷史': 90},\n",
       " {'姓名': '王人仰', '國文': 72, '英文': 73, '數學': 65, '地理': 78, '歷史': 99},\n",
       " {'姓名': '臧怡君', '國文': 70, '英文': 98, '數學': 46, '地理': 82, '歷史': 81},\n",
       " {'姓名': '陳倩潔', '國文': 68, '英文': 95, '數學': 99, '地理': 90, '歷史': 76},\n",
       " {'姓名': '陳俊憲', '國文': 95, '英文': 79, '數學': 75, '地理': 76, '歷史': 58},\n",
       " {'姓名': '趙宛真', '國文': 56, '英文': 80, '數學': 60, '地理': 80, '歷史': 56},\n",
       " {'姓名': '翁羽威', '國文': 73, '英文': 49, '數學': 47, '地理': 85, '歷史': 63},\n",
       " {'姓名': '楊少亮', '國文': 60, '英文': 71, '數學': 67, '地理': 96, '歷史': 74},\n",
       " {'姓名': '胡淑貞', '國文': 45, '英文': 71, '數學': 73, '地理': 76, '歷史': 52},\n",
       " {'姓名': '李慶亮', '國文': 64, '英文': 96, '數學': 93, '地理': 88, '歷史': 91}]"
      ]
     },
     "execution_count": 28,
     "metadata": {},
     "output_type": "execute_result"
    }
   ],
   "source": [
    "import pyinputplus as pyip\n",
    "s_nums:int = pyip.inputInt(\"請輸入學生的人數(1~50):\",min=1,max=50)\n",
    "print(s_nums)\n",
    "students = getStudents(s_nums)\n",
    "students"
   ]
  },
  {
   "cell_type": "code",
   "execution_count": 29,
   "metadata": {},
   "outputs": [
    {
     "data": {
      "text/plain": [
       "[{'姓名': '陳文賢', '國文': 67, '英文': 92, '數學': 60, '地理': 89, '歷史': 90},\n",
       " {'姓名': '王人仰', '國文': 72, '英文': 73, '數學': 65, '地理': 78, '歷史': 99},\n",
       " {'姓名': '臧怡君', '國文': 70, '英文': 98, '數學': 46, '地理': 82, '歷史': 81},\n",
       " {'姓名': '陳倩潔', '國文': 68, '英文': 95, '數學': 99, '地理': 90, '歷史': 76},\n",
       " {'姓名': '陳俊憲', '國文': 95, '英文': 79, '數學': 75, '地理': 76, '歷史': 58},\n",
       " {'姓名': '趙宛真', '國文': 56, '英文': 80, '數學': 60, '地理': 80, '歷史': 56},\n",
       " {'姓名': '翁羽威', '國文': 73, '英文': 49, '數學': 47, '地理': 85, '歷史': 63},\n",
       " {'姓名': '楊少亮', '國文': 60, '英文': 71, '數學': 67, '地理': 96, '歷史': 74},\n",
       " {'姓名': '胡淑貞', '國文': 45, '英文': 71, '數學': 73, '地理': 76, '歷史': 52},\n",
       " {'姓名': '李慶亮', '國文': 64, '英文': 96, '數學': 93, '地理': 88, '歷史': 91}]"
      ]
     },
     "execution_count": 29,
     "metadata": {},
     "output_type": "execute_result"
    }
   ],
   "source": [
    "students "
   ]
  },
  {
   "cell_type": "code",
   "execution_count": 36,
   "metadata": {},
   "outputs": [
    {
     "name": "stdout",
     "output_type": "stream",
     "text": [
      "寫入成功\n"
     ]
    }
   ],
   "source": [
    "import csv\n",
    "from csv import DictWriter\n",
    "\n",
    "def save_to_csv(students:list[dict],fileName:str)->None:    \n",
    "    fileNameWithExtension:str = fileName + '.csv'\n",
    "    with open(fileNameWithExtension,mode='w',encoding='utf-8',newline='') as file:\n",
    "        fieldnames:list[str] = ['姓名', '國文', '英文', '數學', '地理', '歷史']\n",
    "        writer:DictWriter = csv.DictWriter(file,fieldnames=fieldnames)\n",
    "        writer.writeheader()\n",
    "        writer.writerows(students)\n",
    "    print(\"寫入成功\")\n",
    "\n",
    "save_to_csv(students,'class2')\n"
   ]
  }
 ],
 "metadata": {
  "kernelspec": {
   "display_name": "Python 3",
   "language": "python",
   "name": "python3"
  },
  "language_info": {
   "codemirror_mode": {
    "name": "ipython",
    "version": 3
   },
   "file_extension": ".py",
   "mimetype": "text/x-python",
   "name": "python",
   "nbconvert_exporter": "python",
   "pygments_lexer": "ipython3",
   "version": "3.10.13"
  }
 },
 "nbformat": 4,
 "nbformat_minor": 2
}
