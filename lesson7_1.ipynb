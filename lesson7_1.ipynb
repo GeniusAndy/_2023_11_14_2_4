{
 "cells": [
  {
   "cell_type": "code",
   "execution_count": 2,
   "metadata": {},
   "outputs": [
    {
     "name": "stdout",
     "output_type": "stream",
     "text": [
      "請輸入第1月份存款:7000\n",
      "請輸入第2月份存款:8000\n",
      "請輸入第3月份存款:1000\n",
      "請輸入第4月份存款:2000\n",
      "請輸入第5月份存款:9000\n",
      "請輸入第6月份存款:9000\n",
      "恭喜!已經存夠了，共存了6月份，總存款為:36000\n"
     ]
    }
   ],
   "source": [
    "#小明想要存錢買一輛機車，機車每輛30000元，他將每月存的錢輸入，當存款足夠買機車時，就顯示提示訊息告知。\n",
    "import pyinputplus as pyip\n",
    "deposit = 0\n",
    "month = 0\n",
    "while deposit < 30000:\n",
    "    month += 1\n",
    "    money_month = pyip.inputInt(f\"請輸入第{month}月份存款:\")\n",
    "    print (money_month)\n",
    "    deposit += money_month\n",
    "\n",
    "print (f\"恭喜!已經存夠了，共存了{month}月份，總存款為:{deposit}\")"
   ]
  },
  {
   "cell_type": "code",
   "execution_count": 8,
   "metadata": {},
   "outputs": [
    {
     "name": "stdout",
     "output_type": "stream",
     "text": [
      "請輸入小寫英文字[按q就會離開]:Taipei\n",
      "請輸入小寫英文字[按q就會離開]:Janpan\n",
      "請輸入小寫英文字[按q就會離開]:結束程式\n"
     ]
    }
   ],
   "source": [
    "#請輸入小寫英文字，列印出第一個字大寫的英文字\n",
    "#如果輸入q，就會離開\n",
    "\n",
    "while (True):    \n",
    "    stuff = pyip.inputStr(\"請輸入小寫英文字[按q就會離開]:\")\n",
    "    if stuff == 'q':\n",
    "        break\n",
    "    print (stuff.capitalize())\n",
    "#capitalize 輸出開頭會是大寫\n",
    "\n",
    "print (\"結束程式\")"
   ]
  },
  {
   "cell_type": "code",
   "execution_count": 11,
   "metadata": {},
   "outputs": [
    {
     "name": "stdout",
     "output_type": "stream",
     "text": [
      "請輸入第1位學生成績:100\n",
      "請輸入第2位學生成績:100\n",
      "請輸入第3位學生成績:100\n",
      "請輸入第4位學生成績:-1\n",
      "全班總成績:300,平均為100.0\n"
     ]
    }
   ],
   "source": [
    "#小美是一位教師，請你以while迴圈方式為小美設計一個輸入成績的程式，如果輸入負數表示成績輸入結束，在輸入成績結束後顯示班上總成績及平均成績。\n",
    "sum = 0\n",
    "num = 0\n",
    "while(True):        \n",
    "    score = pyip.inputInt(f\"請輸入第{num+1}位學生成績:\")\n",
    "    print(score)\n",
    "    if score<0:\n",
    "        break\n",
    "    num += 1\n",
    "    sum += score\n",
    "\n",
    "print(f\"全班總成績:{sum},平均為{sum/num}\")"
   ]
  },
  {
   "cell_type": "code",
   "execution_count": 14,
   "metadata": {},
   "outputs": [
    {
     "name": "stdout",
     "output_type": "stream",
     "text": [
      "w格式錯誤\n",
      "e格式錯誤\n",
      "r格式錯誤\n",
      "t格式錯誤\n",
      "y格式錯誤\n",
      "n格式錯誤\n",
      "g格式錯誤\n",
      "x格式錯誤\n",
      "j格式錯誤\n",
      "l格式錯誤\n",
      "應用程式結束\n"
     ]
    }
   ],
   "source": [
    "#顯示:\n",
    "#奇數輸出平方\n",
    "#偶數不做任何動作\n",
    "#'Q'要離開\n",
    "\n",
    "while(True):\n",
    "    value = input(\"請輸入整數，輸入[q]離開\")\n",
    "    if value == 'q':\n",
    "        break\n",
    "\n",
    "    try:\n",
    "       valueInt = int(value)\n",
    "    except:\n",
    "        print(f\"{value}格式錯誤\")\n",
    "        continue\n",
    "    \n",
    "    if valueInt % 2 == 1:\n",
    "        print (f\"{valueInt}的平方是{valueInt ** 2}\")\n",
    "    else :\n",
    "        print(\"不做事\")\n",
    "\n",
    "print(\"應用程式結束\")"
   ]
  },
  {
   "cell_type": "code",
   "execution_count": 18,
   "metadata": {},
   "outputs": [
    {
     "name": "stdout",
     "output_type": "stream",
     "text": [
      "Q格式錯誤\n",
      "q格式錯誤\n",
      "格式錯誤\n",
      "格式錯誤\n",
      "格式錯誤\n"
     ]
    },
    {
     "ename": "KeyboardInterrupt",
     "evalue": "Interrupted by user",
     "output_type": "error",
     "traceback": [
      "\u001b[0;31m---------------------------------------------------------------------------\u001b[0m",
      "\u001b[0;31mKeyboardInterrupt\u001b[0m                         Traceback (most recent call last)",
      "\u001b[1;32m/workspaces/_2023_11_14_2_4/lesson7_1.ipynb 儲存格 5\u001b[0m line \u001b[0;36m7\n\u001b[1;32m      <a href='vscode-notebook-cell://codespaces%2Bcrispy-dollop-x55r6949xx6gh6rqq/workspaces/_2023_11_14_2_4/lesson7_1.ipynb#W4sdnNjb2RlLXJlbW90ZQ%3D%3D?line=0'>1</a>\u001b[0m \u001b[39m#顯示:\u001b[39;00m\n\u001b[1;32m      <a href='vscode-notebook-cell://codespaces%2Bcrispy-dollop-x55r6949xx6gh6rqq/workspaces/_2023_11_14_2_4/lesson7_1.ipynb#W4sdnNjb2RlLXJlbW90ZQ%3D%3D?line=1'>2</a>\u001b[0m \u001b[39m#奇數輸出平方\u001b[39;00m\n\u001b[1;32m      <a href='vscode-notebook-cell://codespaces%2Bcrispy-dollop-x55r6949xx6gh6rqq/workspaces/_2023_11_14_2_4/lesson7_1.ipynb#W4sdnNjb2RlLXJlbW90ZQ%3D%3D?line=2'>3</a>\u001b[0m \u001b[39m#偶數不做任何動作\u001b[39;00m\n\u001b[1;32m      <a href='vscode-notebook-cell://codespaces%2Bcrispy-dollop-x55r6949xx6gh6rqq/workspaces/_2023_11_14_2_4/lesson7_1.ipynb#W4sdnNjb2RlLXJlbW90ZQ%3D%3D?line=3'>4</a>\u001b[0m \u001b[39m#'Q'要離開,輸入 'q','Q','quit','Quit','QUIT' 都可以離開程式\u001b[39;00m\n\u001b[1;32m      <a href='vscode-notebook-cell://codespaces%2Bcrispy-dollop-x55r6949xx6gh6rqq/workspaces/_2023_11_14_2_4/lesson7_1.ipynb#W4sdnNjb2RlLXJlbW90ZQ%3D%3D?line=5'>6</a>\u001b[0m \u001b[39mwhile\u001b[39;00m(\u001b[39mTrue\u001b[39;00m):\n\u001b[0;32m----> <a href='vscode-notebook-cell://codespaces%2Bcrispy-dollop-x55r6949xx6gh6rqq/workspaces/_2023_11_14_2_4/lesson7_1.ipynb#W4sdnNjb2RlLXJlbW90ZQ%3D%3D?line=6'>7</a>\u001b[0m     value \u001b[39m=\u001b[39m \u001b[39minput\u001b[39;49m(\u001b[39m\"\u001b[39;49m\u001b[39m請輸入整數，輸入[q],[Q],[Quit],[QUIT]離開\u001b[39;49m\u001b[39m\"\u001b[39;49m)\n\u001b[1;32m      <a href='vscode-notebook-cell://codespaces%2Bcrispy-dollop-x55r6949xx6gh6rqq/workspaces/_2023_11_14_2_4/lesson7_1.ipynb#W4sdnNjb2RlLXJlbW90ZQ%3D%3D?line=7'>8</a>\u001b[0m     \u001b[39mif\u001b[39;00m value \u001b[39m==\u001b[39m \u001b[39m'\u001b[39m\u001b[39mq,Q,Quit,QUIT\u001b[39m\u001b[39m'\u001b[39m:\n\u001b[1;32m      <a href='vscode-notebook-cell://codespaces%2Bcrispy-dollop-x55r6949xx6gh6rqq/workspaces/_2023_11_14_2_4/lesson7_1.ipynb#W4sdnNjb2RlLXJlbW90ZQ%3D%3D?line=8'>9</a>\u001b[0m         \u001b[39mbreak\u001b[39;00m\n",
      "File \u001b[0;32m~/.local/lib/python3.10/site-packages/ipykernel/kernelbase.py:1251\u001b[0m, in \u001b[0;36mKernel.raw_input\u001b[0;34m(self, prompt)\u001b[0m\n\u001b[1;32m   1249\u001b[0m     msg \u001b[39m=\u001b[39m \u001b[39m\"\u001b[39m\u001b[39mraw_input was called, but this frontend does not support input requests.\u001b[39m\u001b[39m\"\u001b[39m\n\u001b[1;32m   1250\u001b[0m     \u001b[39mraise\u001b[39;00m StdinNotImplementedError(msg)\n\u001b[0;32m-> 1251\u001b[0m \u001b[39mreturn\u001b[39;00m \u001b[39mself\u001b[39;49m\u001b[39m.\u001b[39;49m_input_request(\n\u001b[1;32m   1252\u001b[0m     \u001b[39mstr\u001b[39;49m(prompt),\n\u001b[1;32m   1253\u001b[0m     \u001b[39mself\u001b[39;49m\u001b[39m.\u001b[39;49m_parent_ident[\u001b[39m\"\u001b[39;49m\u001b[39mshell\u001b[39;49m\u001b[39m\"\u001b[39;49m],\n\u001b[1;32m   1254\u001b[0m     \u001b[39mself\u001b[39;49m\u001b[39m.\u001b[39;49mget_parent(\u001b[39m\"\u001b[39;49m\u001b[39mshell\u001b[39;49m\u001b[39m\"\u001b[39;49m),\n\u001b[1;32m   1255\u001b[0m     password\u001b[39m=\u001b[39;49m\u001b[39mFalse\u001b[39;49;00m,\n\u001b[1;32m   1256\u001b[0m )\n",
      "File \u001b[0;32m~/.local/lib/python3.10/site-packages/ipykernel/kernelbase.py:1295\u001b[0m, in \u001b[0;36mKernel._input_request\u001b[0;34m(self, prompt, ident, parent, password)\u001b[0m\n\u001b[1;32m   1292\u001b[0m \u001b[39mexcept\u001b[39;00m \u001b[39mKeyboardInterrupt\u001b[39;00m:\n\u001b[1;32m   1293\u001b[0m     \u001b[39m# re-raise KeyboardInterrupt, to truncate traceback\u001b[39;00m\n\u001b[1;32m   1294\u001b[0m     msg \u001b[39m=\u001b[39m \u001b[39m\"\u001b[39m\u001b[39mInterrupted by user\u001b[39m\u001b[39m\"\u001b[39m\n\u001b[0;32m-> 1295\u001b[0m     \u001b[39mraise\u001b[39;00m \u001b[39mKeyboardInterrupt\u001b[39;00m(msg) \u001b[39mfrom\u001b[39;00m \u001b[39mNone\u001b[39;00m\n\u001b[1;32m   1296\u001b[0m \u001b[39mexcept\u001b[39;00m \u001b[39mException\u001b[39;00m:\n\u001b[1;32m   1297\u001b[0m     \u001b[39mself\u001b[39m\u001b[39m.\u001b[39mlog\u001b[39m.\u001b[39mwarning(\u001b[39m\"\u001b[39m\u001b[39mInvalid Message:\u001b[39m\u001b[39m\"\u001b[39m, exc_info\u001b[39m=\u001b[39m\u001b[39mTrue\u001b[39;00m)\n",
      "\u001b[0;31mKeyboardInterrupt\u001b[0m: Interrupted by user"
     ]
    }
   ],
   "source": [
    "#顯示:\n",
    "#奇數輸出平方\n",
    "#偶數不做任何動作\n",
    "#'Q'要離開,輸入 'q','Q','quit','Quit','QUIT' 都可以離開程式\n",
    "\n",
    "while(True):\n",
    "    value = input(\"請輸入整數，輸入[q],[Q],[Quit],[QUIT]離開\")\n",
    "    if value == 'q':\n",
    "        break\n",
    "    if value == 'Q':\n",
    "        break\n",
    "    if value == 'Quit':\n",
    "        break\n",
    "    if value == 'QUIT':\n",
    "        break\n",
    "\n",
    "    try:\n",
    "       valueInt = int(value)\n",
    "    except:\n",
    "        print(f\"{value}格式錯誤\")\n",
    "        continue\n",
    "    \n",
    "    if valueInt % 2 == 1:\n",
    "        print (f\"{valueInt}的平方是{valueInt ** 2}\")\n",
    "    else :\n",
    "        print(\"不做事\")\n",
    "\n",
    "print(\"應用程式結束\")"
   ]
  }
 ],
 "metadata": {
  "kernelspec": {
   "display_name": "Python 3",
   "language": "python",
   "name": "python3"
  },
  "language_info": {
   "codemirror_mode": {
    "name": "ipython",
    "version": 3
   },
   "file_extension": ".py",
   "mimetype": "text/x-python",
   "name": "python",
   "nbconvert_exporter": "python",
   "pygments_lexer": "ipython3",
   "version": "3.10.13"
  }
 },
 "nbformat": 4,
 "nbformat_minor": 2
}
