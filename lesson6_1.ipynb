{
 "cells": [
  {
   "cell_type": "code",
   "execution_count": 1,
   "metadata": {},
   "outputs": [
    {
     "name": "stdout",
     "output_type": "stream",
     "text": [
      "請輸入學生分數(1~100):0\n",
      "丁\n"
     ]
    }
   ],
   "source": [
    "#作業\n",
    "# 90(含)~100分為「優」\n",
    "# 80(含)~89分為「甲」\n",
    "# 70(含)~79分為「乙」\n",
    "# 60(含)~69分為「丙」\n",
    "# 0(含)~59分為「丁」\n",
    "\n",
    "import pyinputplus as pyip\n",
    "\n",
    "scores = pyip.inputInt(\"請輸入學生分數(1~100):\",max=100,min=0)\n",
    "print(scores)\n",
    "#多項選擇\n",
    "if scores >= 90:\n",
    "    print(\"優\")\n",
    "elif scores >= 80:\n",
    "    print(\"甲\")\n",
    "elif scores >= 70:\n",
    "    print(\"乙\")\n",
    "elif scores >= 60:\n",
    "    print(\"丙\")\n",
    "else :\n",
    "    print(\"丁\")"
   ]
  },
  {
   "cell_type": "code",
   "execution_count": 49,
   "metadata": {},
   "outputs": [
    {
     "ename": "SyntaxError",
     "evalue": "invalid syntax (75839972.py, line 12)",
     "output_type": "error",
     "traceback": [
      "\u001b[0;36m  Cell \u001b[0;32mIn[49], line 12\u001b[0;36m\u001b[0m\n\u001b[0;31m    elif dollar >= 50000:\u001b[0m\n\u001b[0m    ^\u001b[0m\n\u001b[0;31mSyntaxError\u001b[0m\u001b[0;31m:\u001b[0m invalid syntax\n"
     ]
    }
   ],
   "source": [
    "#作業2\n",
    "import pyinputplus as pyip\n",
    "\n",
    "dollar = pyip.inputInt(\"請輸入顧客打折金額(最高100000):\",min=0)\n",
    "print(dollar)\n",
    "is_add = pyip.inputYesNo(\"顧客是否符合打折條件?(y,n)\",yesVal='y',noVal='n',default='n',blank=True)\n",
    "print(is_add)\n",
    "if(is_add == \"y\"):\n",
    "    dollar *= 0.8\n",
    "    if dollar >= 100000:\n",
    "         \n",
    "     elif dollar >= 50000:\n",
    "          dollar *= 0.85\n",
    "     elif dollar >= 30000:\n",
    "          dollar *= 0.9\n",
    "     elif dollar >= 10000:\n",
    "          dollar *= 0.95\n",
    "print(f\"顧客金額是{round(dollar)}\")\n",
    "\n",
    "import pyinputplus as pyip\n"
   ]
  },
  {
   "cell_type": "code",
   "execution_count": 4,
   "metadata": {},
   "outputs": [
    {
     "name": "stdout",
     "output_type": "stream",
     "text": [
      "成年\n"
     ]
    }
   ],
   "source": [
    "#not 運算子\n",
    "age = 18\n",
    "\n",
    "if not age >=18:\n",
    "    print(\"未成年\")\n",
    "else:\n",
    "    print(\"成年\")\n",
    "    "
   ]
  }
 ],
 "metadata": {
  "kernelspec": {
   "display_name": "Python 3",
   "language": "python",
   "name": "python3"
  },
  "language_info": {
   "codemirror_mode": {
    "name": "ipython",
    "version": 3
   },
   "file_extension": ".py",
   "mimetype": "text/x-python",
   "name": "python",
   "nbconvert_exporter": "python",
   "pygments_lexer": "ipython3",
   "version": "3.10.13"
  }
 },
 "nbformat": 4,
 "nbformat_minor": 2
}
