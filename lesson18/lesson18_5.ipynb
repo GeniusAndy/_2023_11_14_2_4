{
 "cells": [
  {
   "cell_type": "code",
   "execution_count": 1,
   "metadata": {},
   "outputs": [
    {
     "ename": "SyntaxError",
     "evalue": "invalid syntax (3065023921.py, line 6)",
     "output_type": "error",
     "traceback": [
      "\u001b[1;36m  Cell \u001b[1;32mIn[1], line 6\u001b[1;36m\u001b[0m\n\u001b[1;33m    year2021.to_sql('台灣2021',engine,if_exists='replace',index=False)``\u001b[0m\n\u001b[1;37m                                                                    ^\u001b[0m\n\u001b[1;31mSyntaxError\u001b[0m\u001b[1;31m:\u001b[0m invalid syntax\n"
     ]
    }
   ],
   "source": [
    "import pandas as pd\n",
    "dataFrame = pd.read_csv(\"world.csv\")\n",
    "taiwan = dataFrame.query('國家==\"台灣\"')\n",
    "year2021 = taiwan.query('日期>=\"2021-01-01\" and 日期<\"2022-01-01\"')\n",
    "engine = create_engine(\"sqlite:///cov19.db\")\n",
    "year2021.to_sql('台灣2021',engine,if_exists='replace',index=False)``"
   ]
  },
  {
   "cell_type": "code",
   "execution_count": null,
   "metadata": {},
   "outputs": [],
   "source": [
    "import pandas as pd\n",
    "dataFrame = pd.read_csv(\"world.csv\")\n",
    "taiwan = dataFrame.query('國家==\"美國\"')\n",
    "sortedFrame = dataFrame.sort_values(by='新增確診數',ascending=False)\n",
    "sortedFrame.iloc[:100]\n",
    "sortedFrame.to_json('cov19USA.json',force_ascii=False,orient='table')``"
   ]
  }
 ],
 "metadata": {
  "kernelspec": {
   "display_name": "Python 3",
   "language": "python",
   "name": "python3"
  },
  "language_info": {
   "codemirror_mode": {
    "name": "ipython",
    "version": 3
   },
   "file_extension": ".py",
   "mimetype": "text/x-python",
   "name": "python",
   "nbconvert_exporter": "python",
   "pygments_lexer": "ipython3",
   "version": "3.12.1"
  }
 },
 "nbformat": 4,
 "nbformat_minor": 2
}
