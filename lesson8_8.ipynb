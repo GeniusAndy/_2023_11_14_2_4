{
 "cells": [
  {
   "cell_type": "code",
   "execution_count": 1,
   "metadata": {},
   "outputs": [],
   "source": [
    "stu1 = [78,92,95,76,92]\n",
    "stu2 = [90,92,75,76,61]"
   ]
  },
  {
   "cell_type": "code",
   "execution_count": 2,
   "metadata": {},
   "outputs": [
    {
     "data": {
      "text/plain": [
       "[[78, 92, 95, 76, 92], [90, 92, 75, 76, 61]]"
      ]
     },
     "execution_count": 2,
     "metadata": {},
     "output_type": "execute_result"
    }
   ],
   "source": [
    "#2維的list\n",
    "students = [stu1, stu2]\n",
    "students"
   ]
  },
  {
   "cell_type": "code",
   "execution_count": 3,
   "metadata": {},
   "outputs": [
    {
     "data": {
      "text/plain": [
       "[78, 92, 95, 76, 92]"
      ]
     },
     "metadata": {},
     "output_type": "display_data"
    },
    {
     "data": {
      "text/plain": [
       "[90, 92, 75, 76, 61]"
      ]
     },
     "metadata": {},
     "output_type": "display_data"
    }
   ],
   "source": [
    "display(students[0])\n",
    "display(students[1])"
   ]
  },
  {
   "cell_type": "code",
   "execution_count": 4,
   "metadata": {},
   "outputs": [
    {
     "data": {
      "text/plain": [
       "78"
      ]
     },
     "metadata": {},
     "output_type": "display_data"
    },
    {
     "data": {
      "text/plain": [
       "90"
      ]
     },
     "metadata": {},
     "output_type": "display_data"
    }
   ],
   "source": [
    "display(students[0][0])\n",
    "display(students[1][0])"
   ]
  },
  {
   "cell_type": "code",
   "execution_count": 3,
   "metadata": {},
   "outputs": [
    {
     "name": "stdout",
     "output_type": "stream",
     "text": [
      "請輸入身高，單位為公分:164.0\n",
      "請輸入體重，單位為公斤:66.0\n",
      "您的BMI是24.54,「您的體重過重」\n",
      "是否繼續計算?(y,n)no\n",
      "程式結束\n"
     ]
    }
   ],
   "source": [
    "import pyinputplus as pyip\n",
    "\n",
    "def getBMI(height:float, weight:float) -> tuple[float,str]:\n",
    "    BMI = weight / (height*0.01)**2\n",
    "    message = \"\"\n",
    "    if BMI < 18.5:\n",
    "        message = \"「您的體重過輕」\"\n",
    "    elif BMI < 24:        \n",
    "        message = \"「您的體重正常」\"\n",
    "        \n",
    "    elif BMI < 27:        \n",
    "        message = \"「您的體重過重」\"\n",
    "\n",
    "    elif BMI < 30:        \n",
    "        message = \"「您的體重輕度肥胖」\"\n",
    "\n",
    "    elif BMI < 35:        \n",
    "        message = \"「您的體重中度肥胖」\"\n",
    "\n",
    "    else:        \n",
    "        message = \"「您的體重重度肥胖」\"\n",
    "\n",
    "    return (BMI,message)\n",
    "\n",
    "        \n",
    "\n",
    "while(True):\n",
    "    h = pyip.inputFloat(\"請輸入身高，單位為公分:\",min = 0)\n",
    "    print(h)\n",
    "    w = pyip.inputFloat(\"請輸入體重，單位為公斤:\",min = 0)\n",
    "    print(w)\n",
    "    bmi, message = getBMI(height=h,weight=w)\n",
    "    print(f\"您的BMI是{bmi:.2f},{message}\")\n",
    "\n",
    "    bmi = pyip.inputYesNo(\"是否繼續計算?(y,n)\")\n",
    "    print(bmi)\n",
    "    if bmi == \"no\":\n",
    "        break\n",
    "print(\"程式結束\")\n",
    "\n"
   ]
  }
 ],
 "metadata": {
  "kernelspec": {
   "display_name": "Python 3",
   "language": "python",
   "name": "python3"
  },
  "language_info": {
   "codemirror_mode": {
    "name": "ipython",
    "version": 3
   },
   "file_extension": ".py",
   "mimetype": "text/x-python",
   "name": "python",
   "nbconvert_exporter": "python",
   "pygments_lexer": "ipython3",
   "version": "3.10.13"
  }
 },
 "nbformat": 4,
 "nbformat_minor": 2
}
